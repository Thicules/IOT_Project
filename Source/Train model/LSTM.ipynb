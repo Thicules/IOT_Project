{
 "cells": [
  {
   "cell_type": "code",
   "execution_count": null,
   "metadata": {
    "colab": {
     "base_uri": "https://localhost:8080/"
    },
    "executionInfo": {
     "elapsed": 384,
     "status": "ok",
     "timestamp": 1711953372162,
     "user": {
      "displayName": "THI NGUYỄN CAO",
      "userId": "10319430232767092635"
     },
     "user_tz": -420
    },
    "id": "zw47o3sZzEuu",
    "outputId": "5985d5b6-7e2d-42ee-9d36-42ffab726200"
   },
   "outputs": [],
   "source": [
    "import pandas\n",
    "from Dataset import Load_data\n",
    "import tensorflow.keras as keras\n",
    "from keras import layers\n",
    "import tensorflow as tf\n",
    "# Cấu hình sử dụng GPU\n",
    "GPU=1\n",
    "physical_devices = tf.config.list_physical_devices('GPU')\n",
    "tf.config.experimental.set_visible_devices(physical_devices[GPU], 'GPU')\n",
    "\n",
    "# Khởi tạo cấu hình GPU\n",
    "tf.config.experimental.set_memory_growth(physical_devices[GPU], True)"
   ]
  },
  {
   "cell_type": "code",
   "execution_count": 2,
   "metadata": {
    "id": "LjVSsb42Jr52"
   },
   "outputs": [],
   "source": [
    "class LSTM_Custom(keras.Model):\n",
    "    def __init__(self):\n",
    "        super(LSTM_Custom, self).__init__()\n",
    "        self.lstm1 = layers.LSTM(512, return_sequences=True)\n",
    "        self.lstm2= layers.Bidirectional(layers.LSTM(256,return_sequences=True))\n",
    "        self.act=layers.Activation(\"relu\")\n",
    "        self.lstm3 = layers.Bidirectional(layers.LSTM(128))\n",
    "        self.lstm3 = layers.Bidirectional(layers.LSTM(64))\n",
    "\n",
    "    def call(self, inputs):\n",
    "        x = self.lstm1(inputs)\n",
    "        x= self.lstm2(x)\n",
    "        x=self.act(x)\n",
    "        x=self.lstm3(x)\n",
    "        return x\n",
    "\n",
    "class Prediction(keras.Model):\n",
    "    def __init__(self):\n",
    "        super(Prediction, self).__init__()\n",
    "        self.dense1 = layers.Dense(128,activation=\"relu\")\n",
    "        self.dropout = layers.Dropout(0.3)\n",
    "        self.predict = layers.Dense(48,activation=\"relu\")\n",
    "\n",
    "    def call(self, inputs):\n",
    "        x = self.dense1(inputs)\n",
    "        x=self.dropout(x)\n",
    "        x=self.predict(x)\n",
    "        return x"
   ]
  },
  {
   "cell_type": "code",
   "execution_count": 3,
   "metadata": {
    "id": "lAXxCVuYJtTy"
   },
   "outputs": [],
   "source": [
    "def CreateModel():\n",
    "    inputs = keras.Input(shape=(24,24, 3))\n",
    "    x=layers.Reshape((-1,72))(inputs)\n",
    "    x=LSTM_Custom()(x)\n",
    "    x=layers.Normalization()(x)\n",
    "    x=Prediction()(x)\n",
    "    model = keras.Model(inputs=inputs, outputs=x)\n",
    "    return model"
   ]
  },
  {
   "cell_type": "code",
   "execution_count": null,
   "metadata": {
    "colab": {
     "base_uri": "https://localhost:8080/",
     "height": 790
    },
    "executionInfo": {
     "elapsed": 13798,
     "status": "error",
     "timestamp": 1711953926116,
     "user": {
      "displayName": "THI NGUYỄN CAO",
      "userId": "10319430232767092635"
     },
     "user_tz": -420
    },
    "id": "PrkEBQ3yJyhm",
    "outputId": "5db269c6-827a-4fa1-f12b-c71e3ba5be0c"
   },
   "outputs": [],
   "source": [
    "model=CreateModel()\n",
    "model.summary()\n",
    "data_train,data_val=Load_data()()"
   ]
  },
  {
   "cell_type": "code",
   "execution_count": null,
   "metadata": {},
   "outputs": [],
   "source": [
    "model.compile(loss='mean_absolute_error',optimizer=keras.optimizers.Adam(learning_rate=0.00001),metrics=\"accuracy\")\n",
    "model.load_weights('./LSTM_weights.h5')\n",
    "with tf.device(f'/GPU:{GPU}'):\n",
    "    model.fit(data_train, epochs=50,validation_data=data_val)\n",
    "    model.save_weights('./LSTM_weights.h5')"
   ]
  }
 ],
 "metadata": {
  "accelerator": "GPU",
  "colab": {
   "authorship_tag": "ABX9TyMOLM9I/eWD+IrHpQoV3L4o",
   "gpuType": "T4",
   "mount_file_id": "16XUSdYHdhGzCCPPQyXv7CKodkQffnuOr",
   "provenance": []
  },
  "kernelspec": {
   "display_name": "Python 3 (ipykernel)",
   "language": "python",
   "name": "python3"
  },
  "language_info": {
   "codemirror_mode": {
    "name": "ipython",
    "version": 3
   },
   "file_extension": ".py",
   "mimetype": "text/x-python",
   "name": "python",
   "nbconvert_exporter": "python",
   "pygments_lexer": "ipython3",
   "version": "3.10.14"
  }
 },
 "nbformat": 4,
 "nbformat_minor": 4
}
