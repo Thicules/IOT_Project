{
 "cells": [
  {
   "cell_type": "code",
   "execution_count": null,
   "id": "6dca2519-dacd-4ad8-8838-73f32275463c",
   "metadata": {},
   "outputs": [],
   "source": [
    "from Source_Model.MobileFormer import mobile_former\n",
    "import torch.nn as nn\n",
    "from Dataset.DataTorch import create_data\n",
    "import torch\n",
    "import torch.optim as optim\n",
    "from tqdm import tqdm"
   ]
  },
  {
   "cell_type": "code",
   "execution_count": null,
   "id": "fa71297b-6ab0-4a30-9ab4-8d8f2de63f91",
   "metadata": {},
   "outputs": [],
   "source": [
    "model=mobile_former.mobile_former_508m(img_size=24)"
   ]
  },
  {
   "cell_type": "code",
   "execution_count": 3,
   "id": "7eb88343-74cd-4b2d-ae6b-be25c74503c0",
   "metadata": {},
   "outputs": [],
   "source": [
    "model.classifier.classifier=nn.Sequential(\n",
    "    nn.Dropout(0.5),\n",
    "    nn.ReLU(),\n",
    "    nn.Linear(1920,1024),\n",
    "    nn.ReLU(),\n",
    "    nn.Linear(1024,48)\n",
    ")"
   ]
  },
  {
   "cell_type": "code",
   "execution_count": null,
   "id": "e2368064-b3bf-4870-a6c3-2439a1f2818f",
   "metadata": {},
   "outputs": [],
   "source": [
    "dataloader_dict=create_data()"
   ]
  },
  {
   "cell_type": "code",
   "execution_count": null,
   "id": "e31691c3-f8af-498e-b77d-0201fa677374",
   "metadata": {},
   "outputs": [],
   "source": [
    "# Xác định hàm mất mát và thuật toán tối ưu\n",
    "criterion = criterior = nn.L1Loss()\n",
    "optimizer = optimizer = optim.Adam(model.parameters(), lr=0.00001)\n",
    "def train_model(net, dataloader_dict, criterior, optimizer, num_epochs):\n",
    "    for epoch in range(num_epochs):\n",
    "        with open('output.txt', 'a') as f:\n",
    "            print(\"Epoch {}/{}\".format(epoch, num_epochs),file=f)\n",
    "        \n",
    "        for phase in [\"Train\", \"Val\"]:\n",
    "            if phase == \"Train\":\n",
    "                net.train()\n",
    "            else:\n",
    "                net.eval()\n",
    "                \n",
    "            epoch_loss = 0.0\n",
    "            epoch_corrects = 0\n",
    "            \n",
    "            for inputs, labels in tqdm(dataloader_dict[phase]):\n",
    "                inputs = inputs.to(device)\n",
    "                labels = labels.to(device)\n",
    "                optimizer.zero_grad()\n",
    "                \n",
    "                with torch.set_grad_enabled(phase == \"Train\"):\n",
    "                    outputs = net(inputs.permute(0, 3, 1, 2))\n",
    "                    loss = criterior(outputs, labels)\n",
    "                    preds=outputs\n",
    "\n",
    "                    \n",
    "                    if phase == \"Train\":\n",
    "                        loss.backward()\n",
    "                        optimizer.step()\n",
    "                        \n",
    "                    epoch_loss += loss.item() * inputs.size(0) * inputs.size(1) * inputs.size(2)\n",
    "                    epoch_corrects += torch.sum(torch.abs(preds - labels.data) < 1e-5)\n",
    "                    \n",
    "            \n",
    "            epoch_loss = epoch_loss / len(dataloader_dict[phase].dataset)\n",
    "            epoch_accuracy = epoch_corrects.double() / len(dataloader_dict[phase].dataset)\n",
    "                    \n",
    "            with open('output.txt', 'a') as f:\n",
    "                print(\"{} Loss: {:.4f} Acc: {:.4f}\".format(phase, epoch_loss, epoch_accuracy), file=f)\n",
    "        torch.save(model.state_dict(), 'mobileformer.pth')"
   ]
  },
  {
   "cell_type": "code",
   "execution_count": null,
   "id": "c24f52b3-88cd-4912-8714-ce619c3a227b",
   "metadata": {},
   "outputs": [],
   "source": [
    "train_model(model,dataloader_dict,criterion,optimizer,100)"
   ]
  },
  {
   "cell_type": "code",
   "execution_count": null,
   "id": "1f37661a-593e-47cf-b8b8-51eadfa4393b",
   "metadata": {},
   "outputs": [],
   "source": []
  }
 ],
 "metadata": {
  "kernelspec": {
   "display_name": "Python 3 (ipykernel)",
   "language": "python",
   "name": "python3"
  },
  "language_info": {
   "codemirror_mode": {
    "name": "ipython",
    "version": 3
   },
   "file_extension": ".py",
   "mimetype": "text/x-python",
   "name": "python",
   "nbconvert_exporter": "python",
   "pygments_lexer": "ipython3",
   "version": "3.10.14"
  }
 },
 "nbformat": 4,
 "nbformat_minor": 5
}
