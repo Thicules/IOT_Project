{
 "cells": [
  {
   "cell_type": "code",
   "execution_count": null,
   "id": "6a10a03f-2c4f-4c30-8963-f82db8171cb0",
   "metadata": {},
   "outputs": [],
   "source": [
    "import pandas\n",
    "from Dataset import Load_data\n",
    "import tensorflow.keras as keras\n",
    "from keras import layers\n",
    "import tensorflow as tf\n",
    "import numpy as np\n",
    "from Source.Transformer import create_model as transformer\n",
    "# Cấu hình sử dụng GPU\n",
    "GPU=1\n",
    "physical_devices = tf.config.list_physical_devices('GPU')\n",
    "tf.config.experimental.set_visible_devices(physical_devices[GPU], 'GPU')\n",
    "\n",
    "# Khởi tạo cấu hình GPU\n",
    "tf.config.experimental.set_memory_growth(physical_devices[GPU], True)"
   ]
  },
  {
   "cell_type": "code",
   "execution_count": null,
   "id": "50242ac0-a44b-44e7-a43e-7ce1815d894f",
   "metadata": {},
   "outputs": [],
   "source": [
    "model=transformer()\n",
    "model.summary()"
   ]
  },
  {
   "cell_type": "code",
   "execution_count": 3,
   "id": "ecb80cf9-8322-4f10-aa7c-b06178929019",
   "metadata": {},
   "outputs": [],
   "source": [
    "Train, Val=Load_data()()\n",
    "model.compile(loss='mean_absolute_error',optimizer=keras.optimizers.Adam(learning_rate=0.0001),metrics=\"accuracy\")"
   ]
  },
  {
   "cell_type": "code",
   "execution_count": null,
   "id": "48ba4423-d1f8-40c1-9256-33fa88b90937",
   "metadata": {},
   "outputs": [],
   "source": [
    "with tf.device(f'/GPU:{GPU}'):\n",
    "    model.fit(Train, epochs=100,validation_data=Val)\n",
    "    model.save_weights('./Transformer_weights.h5')"
   ]
  }
 ],
 "metadata": {
  "kernelspec": {
   "display_name": "Python 3 (ipykernel)",
   "language": "python",
   "name": "python3"
  },
  "language_info": {
   "codemirror_mode": {
    "name": "ipython",
    "version": 3
   },
   "file_extension": ".py",
   "mimetype": "text/x-python",
   "name": "python",
   "nbconvert_exporter": "python",
   "pygments_lexer": "ipython3",
   "version": "3.10.14"
  }
 },
 "nbformat": 4,
 "nbformat_minor": 5
}
