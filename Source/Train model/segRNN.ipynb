{
 "cells": [
  {
   "cell_type": "code",
   "execution_count": null,
   "id": "1efd57c0-d5ed-4285-b14d-b3105390845c",
   "metadata": {},
   "outputs": [],
   "source": [
    "from Source.SegRNN.SegRNN import Model\n",
    "import argparse\n",
    "from torchsummary import summary\n",
    "from Dataset.DataTorch import create_data\n",
    "import torch\n",
    "import torch.nn as nn\n",
    "import torch.optim as optim\n",
    "from tqdm import tqdm"
   ]
  },
  {
   "cell_type": "code",
   "execution_count": null,
   "id": "af1f65b2-7693-49ce-86ba-c4e82768a381",
   "metadata": {},
   "outputs": [],
   "source": [
    "config={\n",
    " \"seq_len\":576,\n",
    " \"pred_len\":48,\n",
    "  \"enc_in\":3,\n",
    "  \"d_model\":512,\n",
    "  \"dropout\":0.5,\n",
    "  \"rnn_type\":\"gru\",\n",
    "  \"dec_way\":\"pmf\",\n",
    "  \"seg_len\":24,\n",
    "   \"channel_id\":False,\n",
    "   \"revin\": True\n",
    "}\n",
    "config_obj = argparse.Namespace(**config)\n",
    "\n",
    "model=Model(config_obj)\n",
    "print(model)"
   ]
  },
  {
   "cell_type": "code",
   "execution_count": 4,
   "id": "b7962468-7ba5-4727-b645-de91ad811afb",
   "metadata": {},
   "outputs": [],
   "source": [
    "# Xác định hàm mất mát và thuật toán tối ưu\n",
    "criterion = criterior = nn.L1Loss()\n",
    "optimizer = optimizer = optim.Adam(model.parameters(), lr=0.000001)\n",
    "def train_model(net, dataloader_dict, criterior, optimizer, num_epochs):\n",
    "    for epoch in range(num_epochs):\n",
    "        with open('output.txt', 'a') as f:\n",
    "            print(\"Epoch {}/{}\".format(epoch, num_epochs),file=f)\n",
    "        \n",
    "        for phase in [\"Train\", \"Val\"]:\n",
    "            if phase == \"Train\":\n",
    "                net.train()\n",
    "            else:\n",
    "                net.eval()\n",
    "                \n",
    "            epoch_loss = 0.0\n",
    "            epoch_corrects = 0\n",
    "            \n",
    "            for inputs, labels in tqdm(dataloader_dict[phase]):\n",
    "                inputs = inputs.to(device)\n",
    "                labels = labels.to(device)\n",
    "                optimizer.zero_grad()\n",
    "                \n",
    "                with torch.set_grad_enabled(phase == \"Train\"):\n",
    "                    outputs = net(inputs.permute(0, 3, 1, 2))\n",
    "                    loss = criterior(outputs, labels)\n",
    "                    preds=outputs\n",
    "\n",
    "                    \n",
    "                    if phase == \"Train\":\n",
    "                        loss.backward()\n",
    "                        optimizer.step()\n",
    "                        \n",
    "                    epoch_loss += loss.item() * inputs.size(0) * inputs.size(1) * inputs.size(2)\n",
    "                    epoch_corrects += torch.sum(torch.abs(preds - labels.data) < 1e-5)\n",
    "                    \n",
    "            \n",
    "            epoch_loss = epoch_loss / len(dataloader_dict[phase].dataset)\n",
    "            epoch_accuracy = epoch_corrects.double() / len(dataloader_dict[phase].dataset)\n",
    "                    \n",
    "            with open('output.txt', 'a') as f:\n",
    "                print(\"{} Loss: {:.4f} Acc: {:.4f}\".format(phase, epoch_loss, epoch_accuracy), file=f)\n",
    "        torch.save(model.state_dict(), 'regRNN_test.pth')"
   ]
  },
  {
   "cell_type": "code",
   "execution_count": null,
   "id": "9f949a13-3d3f-4b89-8fca-1b108176bd49",
   "metadata": {},
   "outputs": [],
   "source": [
    "dataloader_dict=create_data()\n",
    "train_model(model,dataloader_dict,criterion,optimizer,30)"
   ]
  }
 ],
 "metadata": {
  "kernelspec": {
   "display_name": "Python 3 (ipykernel)",
   "language": "python",
   "name": "python3"
  },
  "language_info": {
   "codemirror_mode": {
    "name": "ipython",
    "version": 3
   },
   "file_extension": ".py",
   "mimetype": "text/x-python",
   "name": "python",
   "nbconvert_exporter": "python",
   "pygments_lexer": "ipython3",
   "version": "3.10.14"
  }
 },
 "nbformat": 4,
 "nbformat_minor": 5
}
